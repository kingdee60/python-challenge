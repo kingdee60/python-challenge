{
 "cells": [
  {
   "cell_type": "code",
   "execution_count": null,
   "metadata": {},
   "outputs": [],
   "source": [
    "#importing libaries \n",
    "\n",
    "import pandas as pd\n",
    "import csv\n",
    "from pathlib import Path\n",
    "import matplotlib.pyplot as plt\n",
    "\n",
    "##\n",
    "#* The total number of months included in the dataset.\n",
    "\n",
    "csv_path = Path(r'C:\\Users\\Public\\Desktop\\github_repos\\python-challenge\\pybank\\budget_data.csv')\n",
    "budget_data = pd.read_csv(csv_path)\n",
    "budget_data\n",
    "\n",
    "\n",
    "#* The net total amount of Profit/Losses over the entire period.\n",
    "\n",
    "# budget_data_grp = budget_data.groupby('Profit/Losses').count()\n",
    "# budget_data_grp\n",
    "budget_data_net = budget_data.sum\n",
    "budget_data_net\n",
    "\n",
    "\n",
    "#* The average of the changes in Profit/Losses over the entire period.\n",
    "\n",
    "budget_data_average = budget_data.mean\n",
    "budget_data_average\n",
    "\n",
    "\n",
    "#* The greatest increase in profits (date and amount) over the entire period.\n",
    "\n",
    "budget_data_max = budget_data.max\n",
    "print(budget_data_max)\n",
    "\n",
    "#* The greatest decrease in losses (date and amount) over the entire period."
   ]
  }
 ],
 "metadata": {
  "kernelspec": {
   "display_name": "Python 3",
   "language": "python",
   "name": "python3"
  },
  "language_info": {
   "codemirror_mode": {
    "name": "ipython",
    "version": 3
   },
   "file_extension": ".py",
   "mimetype": "text/x-python",
   "name": "python",
   "nbconvert_exporter": "python",
   "pygments_lexer": "ipython3",
   "version": "3.6.5"
  }
 },
 "nbformat": 4,
 "nbformat_minor": 2
}
